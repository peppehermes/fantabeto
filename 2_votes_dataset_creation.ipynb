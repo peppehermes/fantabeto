{
 "cells": [
  {
   "cell_type": "markdown",
   "id": "5c9991b1",
   "metadata": {},
   "source": [
    "Generate player votes database, containing votes for Serie A matchday and player.\n",
    "\n",
    "Votes data is manually downloaded from https://www.fantacalcio.it/voti-fantacalcio-serie-a\n",
    "\n",
    "Serie A calendar is loaded from another file, to add information not containing in votes files: home/away, team opponent."
   ]
  },
  {
   "cell_type": "code",
   "execution_count": null,
   "id": "b63beb69",
   "metadata": {},
   "outputs": [],
   "source": [
    "import pandas as pd\n",
    "import numpy as np"
   ]
  },
  {
   "cell_type": "code",
   "execution_count": null,
   "id": "a3c39376",
   "metadata": {},
   "outputs": [],
   "source": [
    "cal = np.array(pd.read_excel('fantacalcio/seriea_calendar.xlsx', header = None))\n",
    "\n",
    "cal_df = pd.DataFrame(columns = ['matchday', 'team1', 'team2'])\n",
    "\n",
    "matchday = 0\n",
    "\n",
    "for i in range(cal.shape[0]):\n",
    "    if(cal[i, 0][0].isnumeric()):\n",
    "        matchday = matchday + 1\n",
    "        continue\n",
    "    \n",
    "    teams = cal[i, 0].split('-')\n",
    "    \n",
    "    frame = pd.DataFrame([[matchday, teams[0], teams[1]]], columns = cal_df.columns)\n",
    "\n",
    "    cal_df = pd.concat([cal_df, frame], ignore_index = True)\n",
    "    "
   ]
  },
  {
   "cell_type": "code",
   "execution_count": null,
   "id": "92d3c6fb",
   "metadata": {},
   "outputs": [],
   "source": [
    "cal_df"
   ]
  },
  {
   "cell_type": "code",
   "execution_count": null,
   "id": "0d4a330d",
   "metadata": {},
   "outputs": [],
   "source": [
    "df = pd.DataFrame(columns = ['matchday', 'player', 'team', 'oppteam', 'home', 'vote', 'goals', 'assists', 'cards_malus', 'fantavote'])\n",
    "\n",
    "LAST_MATCH = 38\n",
    "\n",
    "for matchday in range(1, LAST_MATCH + 1):\n",
    "    \n",
    "    votes_file = 'fantacalcio/voti/Voti_Fantacalcio_Stagione_2023_24_Giornata_' + str(matchday) + '.xlsx'\n",
    "\n",
    "    try:\n",
    "        rx = np.array(pd.read_excel(votes_file, header = None))\n",
    "    except:\n",
    "        break\n",
    "\n",
    "    read = 0\n",
    "    for i in range(rx.shape[0]):\n",
    "        if(rx[i, 0] == \"Cod.\"):\n",
    "            read = 1\n",
    "            team = rx[i-1, 0];\n",
    "            continue\n",
    "\n",
    "        if(read):\n",
    "            if(isinstance(rx[i, 0], int)):\n",
    "                if((isinstance(rx[i, 3], float) or isinstance(rx[i, 3], int)) and rx[i, 1] != \"ALL\") :\n",
    "                    player = rx[i, 2];\n",
    "                    vote = float(rx[i, 3])\n",
    "                    goals = rx[i, 4] + rx[i, 8] - rx[i, 5]\n",
    "                    assists = rx[i, 12]\n",
    "                    cards_malus = rx[i, 10] * 0.5 + rx[i, 11]\n",
    "                    \n",
    "                    oppteam = ''\n",
    "                    home = 0\n",
    "                    for j in range(cal_df.shape[0]):\n",
    "                        if(cal_df['matchday'][j] == matchday):\n",
    "                            if(cal_df['team1'][j] == team):\n",
    "                                oppteam = cal_df['team2'][j] \n",
    "                                home = 1\n",
    "                            elif(cal_df['team2'][j] == team):\n",
    "                                oppteam = cal_df['team1'][j] \n",
    "                                home = 0\n",
    "\n",
    "                    goals_gen = goals * 3;\n",
    "                    if(goals < 0):\n",
    "                        goals_gen = goals\n",
    "                        \n",
    "                    fantavote = vote + goals_gen + assists - cards_malus \n",
    "                    \n",
    "                    frame = pd.DataFrame([[matchday, player, team, oppteam, home, vote, goals, assists, cards_malus, fantavote]], columns = df.columns)\n",
    "\n",
    "                    df = pd.concat([df, frame], axis = 0, ignore_index = True)\n",
    "            else:\n",
    "                read = 0\n",
    "                continue\n",
    "    \n",
    "    print('loaded votes for matchday ' + str(matchday))\n",
    "\n",
    "    df"
   ]
  },
  {
   "cell_type": "code",
   "execution_count": null,
   "id": "6ade957d",
   "metadata": {},
   "outputs": [],
   "source": [
    "df"
   ]
  },
  {
   "cell_type": "code",
   "execution_count": null,
   "id": "230213fe",
   "metadata": {},
   "outputs": [],
   "source": [
    "df.to_excel('mid_outputs/players_votes.xlsx')"
   ]
  },
  {
   "cell_type": "markdown",
   "id": "ef91ece3",
   "metadata": {},
   "source": [
    "Elaborate data for past seasons.\n",
    "\n",
    "Do not repeat if data is already present."
   ]
  },
  {
   "cell_type": "code",
   "execution_count": null,
   "id": "da35bdf9",
   "metadata": {},
   "outputs": [],
   "source": [
    "# BACKUP CODE FOR SEASON 2122 and 2021 (different calendar file format than 2223 and 2324)\n",
    "\n",
    "cal_df = pd.read_excel('fantacalcio/season2122/seriea_calendar.xlsx')\n",
    "\n",
    "to_drop = list()\n",
    "\n",
    "for i in range(cal_df.shape[0]):\n",
    "    if(not isinstance(cal_df['matchday'][i], int)):\n",
    "        to_drop.append(i)\n",
    "    \n",
    "cal_df = cal_df.drop(to_drop)\n",
    "\n",
    "cal_df = cal_df.reset_index(drop = True)\n",
    "\n",
    "cal_df"
   ]
  },
  {
   "cell_type": "code",
   "execution_count": null,
   "id": "a0b100da",
   "metadata": {},
   "outputs": [],
   "source": [
    "cal = np.array(pd.read_excel('fantacalcio/season2223/seriea_calendar.xlsx', header = None))\n",
    "\n",
    "cal_df = pd.DataFrame(columns = ['matchday', 'team1', 'team2'])\n",
    "\n",
    "matchday = 0\n",
    "\n",
    "for i in range(cal.shape[0]):\n",
    "    if(cal[i, 0][0].isnumeric()):\n",
    "        matchday = matchday + 1\n",
    "        continue\n",
    "    \n",
    "    teams = cal[i, 0].split('-')\n",
    "    \n",
    "    frame = pd.DataFrame([[matchday, teams[0], teams[1]]], columns = cal_df.columns)\n",
    "\n",
    "    cal_df = pd.concat([cal_df, frame], ignore_index = True)\n",
    "    "
   ]
  },
  {
   "cell_type": "code",
   "execution_count": null,
   "id": "0313a0f4",
   "metadata": {},
   "outputs": [],
   "source": [
    "df = pd.DataFrame(columns = ['matchday', 'player', 'team', 'oppteam', 'home', 'vote', 'goals', 'assists', 'cards_malus', 'fantavote'])\n",
    "\n",
    "LAST_MATCH = 38\n",
    "\n",
    "for matchday in range(1, LAST_MATCH + 1):\n",
    "    \n",
    "    votes_file = 'fantacalcio/season2223/voti/Voti_Fantacalcio_Stagione_2022_23_Giornata_' + str(matchday) + '.xlsx'\n",
    "\n",
    "\n",
    "\n",
    "\n",
    "    rx = np.array(pd.read_excel(votes_file, header = None))\n",
    "\n",
    "    read = 0\n",
    "    for i in range(rx.shape[0]):\n",
    "        if(rx[i, 0] == \"Cod.\"):\n",
    "            read = 1\n",
    "            team = rx[i-1, 0];\n",
    "            continue\n",
    "\n",
    "        if(read):\n",
    "            if(isinstance(rx[i, 0], int)):\n",
    "                if((isinstance(rx[i, 3], float) or isinstance(rx[i, 3], int)) and rx[i, 1] != \"ALL\") :\n",
    "                    player = rx[i, 2];\n",
    "                    vote = float(rx[i, 3])\n",
    "                    goals = rx[i, 4] + rx[i, 8] - rx[i, 5]\n",
    "                    assists = rx[i, 12]\n",
    "                    cards_malus = rx[i, 10] * 0.5 + rx[i, 11]\n",
    "                    \n",
    "                    oppteam = ''\n",
    "                    home = 0\n",
    "                    for j in range(cal_df.shape[0]):\n",
    "                        if(cal_df['matchday'][j] == matchday):\n",
    "                            if(cal_df['team1'][j] == team):\n",
    "                                oppteam = cal_df['team2'][j] \n",
    "                                home = 1\n",
    "                            elif(cal_df['team2'][j] == team):\n",
    "                                oppteam = cal_df['team1'][j] \n",
    "                                home = 0\n",
    "\n",
    "                    goals_gen = goals * 3;\n",
    "                    if(goals < 0):\n",
    "                        goals_gen = goals\n",
    "                        \n",
    "                    fantavote = vote + goals_gen + assists - cards_malus \n",
    "                    \n",
    "                    frame = pd.DataFrame([[matchday, player, team, oppteam, home, vote, goals, assists, cards_malus, fantavote]], columns = df.columns)\n",
    "\n",
    "                    df = pd.concat([df, frame], axis = 0, ignore_index = True)\n",
    "            else:\n",
    "                read = 0\n",
    "                continue\n",
    "\n",
    "    df"
   ]
  },
  {
   "cell_type": "code",
   "execution_count": null,
   "id": "82b1cfc8",
   "metadata": {},
   "outputs": [],
   "source": [
    "df.to_excel('mid_outputs/season2223/players_votes.xlsx')"
   ]
  }
 ],
 "metadata": {
  "kernelspec": {
   "display_name": "Python 3 (ipykernel)",
   "language": "python",
   "name": "python3"
  },
  "language_info": {
   "codemirror_mode": {
    "name": "ipython",
    "version": 3
   },
   "file_extension": ".py",
   "mimetype": "text/x-python",
   "name": "python",
   "nbconvert_exporter": "python",
   "pygments_lexer": "ipython3",
   "version": "3.11.5"
  }
 },
 "nbformat": 4,
 "nbformat_minor": 5
}
