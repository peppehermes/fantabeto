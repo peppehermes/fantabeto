{
 "cells": [
  {
   "cell_type": "markdown",
   "id": "fd8a6cb9",
   "metadata": {},
   "source": [
    "Scraping for playing probability for the current Serie A matchday.\n",
    "\n",
    "Data from http://fantacalcio.it"
   ]
  },
  {
   "cell_type": "code",
   "execution_count": null,
   "id": "4c7b7d26",
   "metadata": {},
   "outputs": [],
   "source": [
    "import requests\n",
    "from bs4 import BeautifulSoup\n",
    "import pandas as pd\n",
    "import numpy as np\n",
    "import re\n",
    "import sys, getopt\n",
    "import csv\n"
   ]
  },
  {
   "cell_type": "code",
   "execution_count": null,
   "id": "91897dbb",
   "metadata": {},
   "outputs": [],
   "source": [
    "res = requests.get('https://www.fantacalcio.it/probabili-formazioni-serie-a')"
   ]
  },
  {
   "cell_type": "code",
   "execution_count": null,
   "id": "7ba89027",
   "metadata": {},
   "outputs": [],
   "source": [
    "soup = BeautifulSoup(res.text)\n",
    "\n",
    "groups = soup.findAll('ul', attrs = {'class' : 'player-list'})\n",
    "\n",
    "probables = pd.DataFrame(columns = ['player', 'starter', 'percentage'])\n",
    "\n",
    "for i in range (len(groups)):\n",
    "    players = groups[i].findAll('a', attrs = {'class' : 'player-name'})\n",
    "    bars = groups[i].findAll('div', attrs = {'class' : 'progress-bar'})\n",
    "    \n",
    "    starter_string = groups[i]['class'][1]\n",
    "    if(starter_string == 'starters'):\n",
    "        starter = 1\n",
    "    else:\n",
    "        starter = 0\n",
    "    \n",
    "    for j in range(len(players)):\n",
    "        player = players[j].contents[1].contents[0]\n",
    "        perc = float(bars[j]['aria-valuenow'])\n",
    "        \n",
    "        row_df = pd.DataFrame([[player, starter, perc]], columns = probables.columns)\n",
    "        \n",
    "        probables = pd.concat([probables, row_df], ignore_index = True)\n",
    "    \n",
    "probables   "
   ]
  },
  {
   "cell_type": "code",
   "execution_count": null,
   "id": "29e5b389",
   "metadata": {},
   "outputs": [],
   "source": [
    "probables = probables.set_index('player')"
   ]
  },
  {
   "cell_type": "code",
   "execution_count": null,
   "id": "d711726e",
   "metadata": {},
   "outputs": [],
   "source": [
    "groups = soup.findAll('ul', attrs = {'class' : 'ballot-list'})\n",
    "\n",
    "ballots = pd.DataFrame(columns = ['player1', 'player2', 'percentage'])\n",
    "for i in range (len(groups)):\n",
    "    players = groups[i].findAll('a', attrs = {'class' : 'player-name'})\n",
    "    percs = groups[i].findAll('strong', attrs = {'class' : 'percentage'})\n",
    "    \n",
    "    player1 = players[0].contents[1].contents[0]\n",
    "    player2 = players[1].contents[1].contents[0]\n",
    "    perc = float(percs[0].contents[0].replace('%', ''))\n",
    "    \n",
    "    row_df = pd.DataFrame([[player1, player2, perc]], columns = ballots.columns)\n",
    "        \n",
    "    ballots = pd.concat([ballots, row_df], ignore_index = True)\n",
    "                                  \n",
    "ballots"
   ]
  },
  {
   "cell_type": "code",
   "execution_count": null,
   "id": "0171c61d",
   "metadata": {},
   "outputs": [],
   "source": [
    "for i in range(ballots.shape[0]):\n",
    "    p1 = ballots['player1'][i]\n",
    "    p2 = ballots['player2'][i]\n",
    "    \n",
    "    perc = float(ballots['percentage'][i])\n",
    "    \n",
    "    probables.at[p1, 'starter'] = perc/100\n",
    "    probables.at[p2, 'starter'] = 1 - perc/100\n",
    "    \n",
    "probables"
   ]
  },
  {
   "cell_type": "code",
   "execution_count": null,
   "id": "8b5468aa",
   "metadata": {},
   "outputs": [],
   "source": [
    "probables.to_excel('mid_outputs/match_probable_players.xlsx')   "
   ]
  }
 ],
 "metadata": {
  "kernelspec": {
   "display_name": "Python 3 (ipykernel)",
   "language": "python",
   "name": "python3"
  },
  "language_info": {
   "codemirror_mode": {
    "name": "ipython",
    "version": 3
   },
   "file_extension": ".py",
   "mimetype": "text/x-python",
   "name": "python",
   "nbconvert_exporter": "python",
   "pygments_lexer": "ipython3",
   "version": "3.11.5"
  }
 },
 "nbformat": 4,
 "nbformat_minor": 5
}
