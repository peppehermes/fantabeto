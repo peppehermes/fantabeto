{
 "cells": [
  {
   "cell_type": "markdown",
   "id": "8f597771",
   "metadata": {},
   "source": [
    "Player/match dataset creation\n",
    "\n",
    "For each serie A (already happened) match and player, a database entry is generated, with this form:\n",
    "    \n",
    "[y = player votes data, player data, team data, vs team data, opp team data, vs opp team data]"
   ]
  },
  {
   "cell_type": "code",
   "execution_count": null,
   "id": "3ecf3676",
   "metadata": {},
   "outputs": [],
   "source": [
    "import pandas as pd"
   ]
  },
  {
   "cell_type": "markdown",
   "id": "a7d3a9d6",
   "metadata": {},
   "source": [
    "Load team data from FBref"
   ]
  },
  {
   "cell_type": "code",
   "execution_count": null,
   "id": "8a6867a5",
   "metadata": {},
   "outputs": [],
   "source": [
    "rcsv = pd.read_csv('fbref_data/teams.csv')   \n",
    "team = pd.DataFrame(rcsv)\n",
    "\n",
    "rcsv = pd.read_csv('fbref_data/teams_vs.csv')   \n",
    "vs_team = pd.DataFrame(rcsv)\n",
    "\n",
    "for i in range(1, team.shape[1]):\n",
    "    team = team.rename(columns = {team.columns[i] : 'team_' + team.columns[i]})\n",
    "    \n",
    "for i in range(1, vs_team.shape[1]):\n",
    "    vs_team = vs_team.rename(columns = {vs_team.columns[i] : 'vs_team_' + vs_team.columns[i]})\n",
    "    \n",
    "vs_team.pop('team')\n",
    "\n",
    "team_data = pd.concat([team, vs_team], axis = 1)\n",
    "\n",
    "team_data['team_idx'] = team_data['team']\n",
    "for i in range(team_data.shape[0]):\n",
    "    team_data.loc[i, 'team_idx'] = team_data.loc[i, 'team_idx'].split(' ')[-1]\n",
    "\n",
    "team_data = team_data.set_index('team_idx')\n",
    "\n",
    "team_data\n",
    "\n"
   ]
  },
  {
   "cell_type": "code",
   "execution_count": null,
   "id": "b6a3db98",
   "metadata": {},
   "outputs": [],
   "source": [
    "team_data.to_excel('mid_outputs/team_data.xlsx')"
   ]
  },
  {
   "cell_type": "markdown",
   "id": "cc50dde9",
   "metadata": {},
   "source": [
    "Load data generated from players_dataset_creation"
   ]
  },
  {
   "cell_type": "code",
   "execution_count": null,
   "id": "c34eb398",
   "metadata": {},
   "outputs": [],
   "source": [
    "rx = pd.read_excel('mid_outputs/players_stats.xlsx', index_col = 3)   \n",
    "players = pd.DataFrame(rx)\n",
    "\n",
    "players\n"
   ]
  },
  {
   "cell_type": "markdown",
   "id": "ae37dfe3",
   "metadata": {},
   "source": [
    "Function for merging match data (player, team, opponent team)"
   ]
  },
  {
   "cell_type": "code",
   "execution_count": null,
   "id": "71c8804e",
   "metadata": {},
   "outputs": [],
   "source": [
    "def player_match_data(player, pteam, oppteam):\n",
    "    if(not(player in players.index)):\n",
    "        return None\n",
    "    \n",
    "    pdata = players.loc[[player]]\n",
    "    \n",
    "    pteam_stats = team_data.loc[[pteam]].rename(index = {pteam : player})\n",
    "    \n",
    "    oppteam_stats = team_data.loc[[oppteam]].rename(index = {oppteam : player})\n",
    "    \n",
    "    oppteam_stats = oppteam_stats.rename(lambda x: 'opp_' + x, axis='columns')\n",
    "    \n",
    "    out = pd.concat([pdata, pteam_stats, oppteam_stats], axis = 1)\n",
    "    \n",
    "    return(out)\n",
    "    "
   ]
  },
  {
   "cell_type": "markdown",
   "id": "a6fdd15b",
   "metadata": {},
   "source": [
    "Output to excel file data for a player. \n",
    "\n",
    "The file is copied and there the desired features are manually selected and printed."
   ]
  },
  {
   "cell_type": "code",
   "execution_count": null,
   "id": "7eb4e666",
   "metadata": {},
   "outputs": [],
   "source": [
    "test = player_match_data('Barella', 'Inter', 'Atalanta')\n",
    "test.to_excel('tmp/playermatchdata.xlsx')\n",
    "\n",
    "test"
   ]
  },
  {
   "cell_type": "code",
   "execution_count": null,
   "id": "6b4c1b00",
   "metadata": {},
   "outputs": [],
   "source": [
    "pteam = 'Inter'\n",
    "pteam_stats = team_data.loc[[pteam]]\n",
    "pteam_stats.index[0]"
   ]
  },
  {
   "cell_type": "code",
   "execution_count": null,
   "id": "6ea6df1f",
   "metadata": {},
   "outputs": [],
   "source": [
    "rx = pd.read_excel('tmp/playermatchdata_sel.xlsx', index_col = 0, header = None)   \n",
    "\n",
    "out = list()\n",
    "\n",
    "for i in range(1, rx.shape[1]):\n",
    "        if(rx[i][2] == \"x\"):\n",
    "            out.append(rx[i][0])\n",
    "            \n",
    "out"
   ]
  },
  {
   "cell_type": "markdown",
   "id": "d4097382",
   "metadata": {},
   "source": [
    "Define and select the dataset features: abs features and rel features.\n",
    "    \n",
    "Rel features are divided by the player minutes played.\n",
    "\n",
    "Rel features (game corrected) are divided by the player number of games instead of minutes. \n",
    "For example, a player who plays 20 minutes and scores, would be to match for stats averaging. It is better to consider the goals made per match."
   ]
  },
  {
   "cell_type": "code",
   "execution_count": null,
   "id": "47bc651f",
   "metadata": {},
   "outputs": [],
   "source": [
    "features_abs = ['r',\n",
    " 'games',\n",
    " 'games_starts',                \n",
    " 'minutes',\n",
    " 'shots_on_target_pct',\n",
    " 'goals_per_shot',\n",
    " 'goals_per_shot_on_target',\n",
    " 'passes_pct',\n",
    " #'dribble_tackles_pct',\n",
    " #'dribbles_completed_pct',\n",
    " 'aerials_won_pct',\n",
    " 'team_possession',\n",
    " 'team_goals_assists_per90',\n",
    " 'team_goals_pens_per90',\n",
    " 'team_goals_assists_pens_per90',\n",
    " 'team_xg_per90',\n",
    " 'team_gk_goals_against_per90',\n",
    " 'team_gk_save_pct',\n",
    " 'team_gk_clean_sheets_pct',\n",
    " 'team_passes_pct',\n",
    " 'team_passes_pct_medium',\n",
    " 'team_passes_pct_long',\n",
    " 'team_sca_per90',\n",
    " 'team_gca_per90',\n",
    " #'team_dribble_tackles_pct',\n",
    " 'team_aerials_won_pct',\n",
    " 'vs_team_possession',\n",
    " 'vs_team_goals_per90',\n",
    " 'vs_team_assists_per90',\n",
    " 'vs_team_xg_per90',\n",
    " 'vs_team_gk_save_pct',\n",
    " 'vs_team_gk_clean_sheets_pct',\n",
    " 'vs_team_gk_pct_passes_launched',\n",
    " 'vs_team_gk_crosses_stopped_pct',\n",
    " 'vs_team_shots_on_target_per90',\n",
    " 'vs_team_passes_pct',\n",
    " 'vs_team_passes_pct_short',\n",
    " 'vs_team_passes_pct_medium',\n",
    " 'vs_team_passes_pct_long',\n",
    " 'vs_team_sca_per90',\n",
    " 'vs_team_gca_per90',\n",
    " #'vs_team_dribble_tackles_pct',\n",
    " #'vs_team_dribbles_completed_pct',\n",
    " 'vs_team_aerials_won_pct',\n",
    " 'opp_team_possession',\n",
    " 'opp_team_goals_assists_per90',\n",
    " 'opp_team_goals_pens_per90',\n",
    " 'opp_team_goals_assists_pens_per90',\n",
    " 'opp_team_xg_per90',\n",
    " 'opp_team_gk_goals_against_per90',\n",
    " 'opp_team_gk_save_pct',\n",
    " 'opp_team_gk_clean_sheets_pct',\n",
    " 'opp_team_passes_pct',\n",
    " 'opp_team_passes_pct_medium',\n",
    " 'opp_team_passes_pct_long',\n",
    " 'opp_team_sca_per90',\n",
    " 'opp_team_gca_per90',\n",
    " #'opp_team_dribble_tackles_pct',\n",
    " 'opp_team_aerials_won_pct',\n",
    " 'opp_vs_team_possession',\n",
    " 'opp_vs_team_goals_per90',\n",
    " 'opp_vs_team_assists_per90',\n",
    " 'opp_vs_team_xg_per90',\n",
    " 'opp_vs_team_gk_save_pct',\n",
    " 'opp_vs_team_gk_clean_sheets_pct',\n",
    " 'opp_vs_team_gk_pct_passes_launched',\n",
    " 'opp_vs_team_gk_crosses_stopped_pct',\n",
    " 'opp_vs_team_shots_on_target_per90',\n",
    " 'opp_vs_team_passes_pct',\n",
    " 'opp_vs_team_passes_pct_short',\n",
    " 'opp_vs_team_passes_pct_medium',\n",
    " 'opp_vs_team_passes_pct_long',\n",
    " 'opp_vs_team_sca_per90',\n",
    " 'opp_vs_team_gca_per90',\n",
    " #'opp_vs_team_dribble_tackles_pct',\n",
    " #'opp_vs_team_dribbles_completed_pct',\n",
    " 'opp_vs_team_aerials_won_pct',\n",
    "                \n",
    " 'vote_avg',\n",
    " 'vote_std']\n",
    "\n",
    "features_rel = [\n",
    " 'goals',\n",
    " 'assists',\n",
    " 'cards_yellow',\n",
    " 'cards_red',\n",
    " 'xg',\n",
    " 'npxg',\n",
    " 'shots_on_target',\n",
    " 'passes_completed',\n",
    " 'passes_into_final_third',\n",
    " 'passes_into_penalty_area',\n",
    " 'progressive_passes',\n",
    " 'passes_live',\n",
    " 'passes_dead',\n",
    " 'through_balls',\n",
    " 'passes_switches',\n",
    " 'crosses',\n",
    " 'corner_kicks',\n",
    " #'dribble_tackles',\n",
    " #'dribbles_vs',\n",
    " #'dribbled_past',\n",
    " 'blocks',\n",
    " 'blocked_shots',\n",
    " 'blocked_passes',\n",
    " 'interceptions',\n",
    " 'clearances',\n",
    " 'errors',\n",
    " 'touches',\n",
    " 'touches_def_pen_area',\n",
    " 'touches_def_3rd',\n",
    " 'touches_mid_3rd',\n",
    " 'touches_att_3rd',\n",
    " 'touches_att_pen_area',\n",
    " 'touches_live_ball',\n",
    " #'dribbles_completed',\n",
    " #'dribbles',\n",
    " 'passes_received',\n",
    " 'miscontrols',\n",
    " 'dispossessed',\n",
    " 'fouls',\n",
    " 'fouled',\n",
    " 'aerials_won',\n",
    " 'aerials_lost',\n",
    " 'carries',\n",
    " 'progressive_carries',\n",
    " 'carries_into_final_third',\n",
    " 'carries_into_penalty_area']\n",
    "\n",
    "features_rel_gamecorr = [\n",
    "    'goals',\n",
    "    'assists',\n",
    "    'xg',\n",
    "    'npxg',\n",
    "    'cards_yellow',\n",
    "    'cards_red'\n",
    "]"
   ]
  },
  {
   "cell_type": "markdown",
   "id": "ced70285",
   "metadata": {},
   "source": [
    "Function for merging match data (player, team, opponent team) and select only the desired features, applying the desired corrections."
   ]
  },
  {
   "cell_type": "code",
   "execution_count": null,
   "id": "3f43d509",
   "metadata": {},
   "outputs": [],
   "source": [
    "def player_match_data_ext(player, pteam, oppteam):\n",
    "    pdata = player_match_data(player, pteam, oppteam)\n",
    "    \n",
    "    if(not isinstance(pdata, pd.DataFrame)):\n",
    "        return None\n",
    "    \n",
    "    out = pd.concat([pdata[features_abs], pdata[features_rel]], axis = 1)\n",
    "    \n",
    "    out[features_rel] = out[features_rel] / max(pdata['minutes'][0], 1)\n",
    "    \n",
    "    out[features_rel_gamecorr] = out[features_rel_gamecorr] * (pdata['minutes'][0] / max(pdata['games'][0], 1) / 90)\n",
    "    \n",
    "    return out\n",
    "    "
   ]
  },
  {
   "cell_type": "markdown",
   "id": "959bf152",
   "metadata": {},
   "source": [
    "Columns variable for the match data, to be then added to votes data."
   ]
  },
  {
   "cell_type": "code",
   "execution_count": null,
   "id": "930d00c7",
   "metadata": {},
   "outputs": [],
   "source": [
    "test = player_match_data_ext('Barella', 'Inter', 'Atalanta')\n",
    "\n",
    "add_columns = test.columns\n",
    "\n",
    "test"
   ]
  },
  {
   "cell_type": "markdown",
   "id": "8d95c9ef",
   "metadata": {},
   "source": [
    "Load Fantacalcio votes data for each match of the season."
   ]
  },
  {
   "cell_type": "code",
   "execution_count": null,
   "id": "3ae718d2",
   "metadata": {},
   "outputs": [],
   "source": [
    "votes = pd.read_excel('mid_outputs/players_votes.xlsx', index_col = 0)\n",
    "votes"
   ]
  },
  {
   "cell_type": "markdown",
   "id": "8cf677e4",
   "metadata": {},
   "source": [
    "Merge votes data with match data for the player."
   ]
  },
  {
   "cell_type": "code",
   "execution_count": null,
   "id": "ec0bc56b",
   "metadata": {},
   "outputs": [],
   "source": [
    "db = votes.copy()\n",
    "\n",
    "delta = pd.DataFrame(columns = add_columns)\n",
    "\n",
    "for i in range(db.shape[0]):\n",
    "    ext_data = player_match_data_ext(db['player'][i], db['team'][i], db['oppteam'][i])\n",
    "    \n",
    "    if(not isinstance(ext_data, pd.DataFrame)):\n",
    "        continue\n",
    "    \n",
    "    ext_data = ext_data.rename(index = {db['player'][i] : i})\n",
    "    \n",
    "    delta = pd.concat([delta, ext_data], axis = 0)\n",
    "    \n",
    "    if(i % 100 == 0):\n",
    "        print(i)\n",
    "    \n",
    "db = pd.concat([db, delta], axis = 1)\n",
    "    "
   ]
  },
  {
   "cell_type": "code",
   "execution_count": null,
   "id": "b292f9f9",
   "metadata": {},
   "outputs": [],
   "source": [
    "db"
   ]
  },
  {
   "cell_type": "markdown",
   "id": "d237f87b",
   "metadata": {},
   "source": [
    "Remove undesired database entries."
   ]
  },
  {
   "cell_type": "code",
   "execution_count": null,
   "id": "1db9f77f",
   "metadata": {},
   "outputs": [],
   "source": [
    "db = db.drop(db[db.r == 'P'].index) # remove goalkeepers\n",
    "db = db.drop(db[db.r != db.r].index) # remove non existing players (by searching NaN values)\n",
    "db = db.drop(db[db.xg != db.xg].index)\n"
   ]
  },
  {
   "cell_type": "code",
   "execution_count": null,
   "id": "f56df3ca",
   "metadata": {},
   "outputs": [],
   "source": [
    "db"
   ]
  },
  {
   "cell_type": "markdown",
   "id": "ab69d09e",
   "metadata": {},
   "source": [
    "Save outfield players database to file."
   ]
  },
  {
   "cell_type": "code",
   "execution_count": null,
   "id": "df26c8e0",
   "metadata": {},
   "outputs": [],
   "source": [
    "db.to_excel('mid_outputs/database_entries.xlsx')"
   ]
  },
  {
   "cell_type": "markdown",
   "id": "38b564d2",
   "metadata": {},
   "source": [
    "Do the same process for goalkeepers, generating a different database."
   ]
  },
  {
   "cell_type": "code",
   "execution_count": null,
   "id": "4d06576a",
   "metadata": {},
   "outputs": [],
   "source": [
    "for i in range(db.columns.shape[0]):\n",
    "    print(str(i) + \" - \" + str(db.columns[i]))"
   ]
  },
  {
   "cell_type": "code",
   "execution_count": null,
   "id": "01bb7413",
   "metadata": {},
   "outputs": [],
   "source": [
    "rx = pd.read_excel('tmp/playermatchdata_sel_gk.xlsx', index_col = 0, header = None)   \n",
    "\n",
    "out = list()\n",
    "\n",
    "for i in range(1, rx.shape[1]):\n",
    "        if(rx[i][2] == \"x\"):\n",
    "            out.append(rx[i][0])\n",
    "            \n",
    "out"
   ]
  },
  {
   "cell_type": "code",
   "execution_count": null,
   "id": "02f961d8",
   "metadata": {},
   "outputs": [],
   "source": [
    "features_abs_gk = [\n",
    " 'gk_games',\n",
    " 'gk_games_starts',\n",
    " 'gk_minutes',\n",
    " 'gk_goals_against_per90', \n",
    " 'gk_save_pct',\n",
    " 'gk_clean_sheets_pct',\n",
    " 'gk_psxg_net_per90',\n",
    " 'gk_passes_pct_launched',\n",
    " 'gk_pct_passes_launched',\n",
    " 'gk_passes_length_avg',\n",
    " 'gk_pct_goal_kicks_launched',\n",
    " 'gk_goal_kick_length_avg',\n",
    " 'gk_crosses_stopped_pct',\n",
    " 'gk_def_actions_outside_pen_area_per90',\n",
    " 'gk_avg_distance_def_actions',\n",
    "    \n",
    " 'team_possession',\n",
    " 'team_goals_assists_per90',\n",
    " 'team_goals_pens_per90',\n",
    " 'team_goals_assists_pens_per90',\n",
    " 'team_xg_per90',\n",
    " 'team_gk_goals_against_per90',\n",
    " 'team_gk_save_pct',\n",
    " 'team_gk_clean_sheets_pct',\n",
    " 'team_passes_pct',\n",
    " 'team_passes_pct_medium',\n",
    " 'team_passes_pct_long',\n",
    " 'team_sca_per90',\n",
    " 'team_gca_per90',\n",
    " #'team_dribble_tackles_pct',\n",
    " 'team_aerials_won_pct',\n",
    " 'vs_team_possession',\n",
    " 'vs_team_goals_per90',\n",
    " 'vs_team_assists_per90',\n",
    " 'vs_team_xg_per90',\n",
    " 'vs_team_gk_save_pct',\n",
    " 'vs_team_gk_clean_sheets_pct',\n",
    " 'vs_team_gk_pct_passes_launched',\n",
    " 'vs_team_gk_crosses_stopped_pct',\n",
    " 'vs_team_shots_on_target_per90',\n",
    " 'vs_team_passes_pct',\n",
    " 'vs_team_passes_pct_short',\n",
    " 'vs_team_passes_pct_medium',\n",
    " 'vs_team_passes_pct_long',\n",
    " 'vs_team_sca_per90',\n",
    " 'vs_team_gca_per90',\n",
    " #'vs_team_dribble_tackles_pct',\n",
    " #'vs_team_dribbles_completed_pct',\n",
    " 'vs_team_aerials_won_pct',\n",
    " 'opp_team_possession',\n",
    " 'opp_team_goals_assists_per90',\n",
    " 'opp_team_goals_pens_per90',\n",
    " 'opp_team_goals_assists_pens_per90',\n",
    " 'opp_team_xg_per90',\n",
    " 'opp_team_gk_goals_against_per90',\n",
    " 'opp_team_gk_save_pct',\n",
    " 'opp_team_gk_clean_sheets_pct',\n",
    " 'opp_team_passes_pct',\n",
    " 'opp_team_passes_pct_medium',\n",
    " 'opp_team_passes_pct_long',\n",
    " 'opp_team_sca_per90',\n",
    " 'opp_team_gca_per90',\n",
    " #'opp_team_dribble_tackles_pct',\n",
    " 'opp_team_aerials_won_pct',\n",
    " 'opp_vs_team_possession',\n",
    " 'opp_vs_team_goals_per90',\n",
    " 'opp_vs_team_assists_per90',\n",
    " 'opp_vs_team_xg_per90',\n",
    " 'opp_vs_team_gk_save_pct',\n",
    " 'opp_vs_team_gk_clean_sheets_pct',\n",
    " 'opp_vs_team_gk_pct_passes_launched',\n",
    " 'opp_vs_team_gk_crosses_stopped_pct',\n",
    " 'opp_vs_team_shots_on_target_per90',\n",
    " 'opp_vs_team_passes_pct',\n",
    " 'opp_vs_team_passes_pct_short',\n",
    " 'opp_vs_team_passes_pct_medium',\n",
    " 'opp_vs_team_passes_pct_long',\n",
    " 'opp_vs_team_sca_per90',\n",
    " 'opp_vs_team_gca_per90',\n",
    " #'opp_vs_team_dribble_tackles_pct',\n",
    " #'opp_vs_team_dribbles_completed_pct',\n",
    " 'opp_vs_team_aerials_won_pct',\n",
    "                \n",
    " 'vote_avg',\n",
    " 'vote_std']\n",
    "\n",
    "features_rel_gk = [\n",
    " 'gk_shots_on_target_against',\n",
    " 'gk_saves',\n",
    " 'gk_free_kick_goals_against',\n",
    " 'gk_corner_kick_goals_against',\n",
    " 'gk_own_goals_against',\n",
    " 'gk_psxg',\n",
    " 'gk_psnpxg_per_shot_on_target_against',\n",
    " 'gk_psxg_net',\n",
    " 'gk_passes_completed_launched',\n",
    " 'gk_passes_launched',\n",
    " 'gk_passes',\n",
    " 'gk_passes_throws',\n",
    " 'gk_goal_kicks',\n",
    " 'gk_crosses',\n",
    " 'gk_crosses_stopped',\n",
    "]"
   ]
  },
  {
   "cell_type": "code",
   "execution_count": null,
   "id": "5e3694a0",
   "metadata": {},
   "outputs": [],
   "source": [
    "def player_match_data_ext_gk(player, pteam, oppteam):\n",
    "    pdata = player_match_data(player, pteam, oppteam)\n",
    "    \n",
    "    if(not isinstance(pdata, pd.DataFrame)):\n",
    "        return None\n",
    "    \n",
    "    if(pdata['gk_games'][0] <= 0):\n",
    "        return None\n",
    "    \n",
    "    out = pd.concat([pdata[features_abs_gk], pdata[features_rel_gk]], axis = 1)\n",
    "    \n",
    "    out[features_rel_gk] = out[features_rel_gk] / max(pdata['minutes'][0], 1)\n",
    "\n",
    "    return out\n",
    "    "
   ]
  },
  {
   "cell_type": "code",
   "execution_count": null,
   "id": "9b671646",
   "metadata": {},
   "outputs": [],
   "source": [
    "test = player_match_data_ext_gk('Consigli', 'Sassuolo', 'Atalanta')\n",
    "\n",
    "add_columns_gk = test.columns\n",
    "\n",
    "test"
   ]
  },
  {
   "cell_type": "code",
   "execution_count": null,
   "id": "33f805a9",
   "metadata": {},
   "outputs": [],
   "source": [
    "db_gk = votes.copy()\n",
    "\n",
    "delta = pd.DataFrame(columns = add_columns_gk)\n",
    "\n",
    "for i in range(db_gk.shape[0]):\n",
    "    ext_data = player_match_data_ext_gk(db_gk['player'][i], db_gk['team'][i], db_gk['oppteam'][i])\n",
    "    \n",
    "    if(i % 100 == 0):\n",
    "        print(i)\n",
    "        \n",
    "    if(not isinstance(ext_data, pd.DataFrame)):\n",
    "        continue\n",
    "    \n",
    "    ext_data = ext_data.rename(index = {db_gk['player'][i] : i})\n",
    "    \n",
    "    delta = pd.concat([delta, ext_data], axis = 0)\n",
    "    \n",
    "    \n",
    "    \n",
    "db_gk = pd.concat([db_gk, delta], axis = 1)\n",
    "    "
   ]
  },
  {
   "cell_type": "code",
   "execution_count": null,
   "id": "4d484846",
   "metadata": {},
   "outputs": [],
   "source": [
    "db_gk"
   ]
  },
  {
   "cell_type": "code",
   "execution_count": null,
   "id": "adab3577",
   "metadata": {},
   "outputs": [],
   "source": [
    "db_gk = db_gk.drop(db_gk[db_gk.gk_games != db_gk.gk_games].index) # remove non extisting players"
   ]
  },
  {
   "cell_type": "code",
   "execution_count": null,
   "id": "e7ae792d",
   "metadata": {},
   "outputs": [],
   "source": [
    "db_gk"
   ]
  },
  {
   "cell_type": "markdown",
   "id": "8dbb7476",
   "metadata": {},
   "source": [
    "Save goalkeepers players database to file."
   ]
  },
  {
   "cell_type": "code",
   "execution_count": null,
   "id": "d8b8b6da",
   "metadata": {},
   "outputs": [],
   "source": [
    "db_gk.to_excel('mid_outputs/database_entries_gk.xlsx')"
   ]
  },
  {
   "cell_type": "code",
   "execution_count": null,
   "id": "54519b24",
   "metadata": {},
   "outputs": [],
   "source": [
    "for i in range(db_gk.columns.shape[0]):\n",
    "    print(str(i) + \" - \" + str(db_gk.columns[i]))"
   ]
  }
 ],
 "metadata": {
  "kernelspec": {
   "display_name": "Python 3 (ipykernel)",
   "language": "python",
   "name": "python3"
  },
  "language_info": {
   "codemirror_mode": {
    "name": "ipython",
    "version": 3
   },
   "file_extension": ".py",
   "mimetype": "text/x-python",
   "name": "python",
   "nbconvert_exporter": "python",
   "pygments_lexer": "ipython3",
   "version": "3.11.5"
  }
 },
 "nbformat": 4,
 "nbformat_minor": 5
}
