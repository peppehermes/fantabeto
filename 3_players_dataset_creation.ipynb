{
 "cells": [
  {
   "cell_type": "markdown",
   "id": "b2cd2177",
   "metadata": {},
   "source": [
    "Players dataset creation\n",
    "\n",
    "The Fantacalcio players list is manually downloaded from https://www.fantacalcio.it/quotazioni-fantacalcio\n",
    "\n",
    "Here, the players database is generated, by merging the Fantacalcio list to stats downloaded from http://fbref.com"
   ]
  },
  {
   "cell_type": "code",
   "execution_count": null,
   "id": "7c65df92",
   "metadata": {},
   "outputs": [],
   "source": [
    "import pandas as pd"
   ]
  },
  {
   "cell_type": "markdown",
   "id": "5ab35d0c",
   "metadata": {},
   "source": [
    "Load fbref data for outfield players and goalkeepers.\n",
    "\n",
    "Generate fbref player list, adding player surname (with special characters replaced to normal ones)"
   ]
  },
  {
   "cell_type": "code",
   "execution_count": null,
   "id": "b2d7073e",
   "metadata": {},
   "outputs": [],
   "source": [
    "rcsv = pd.read_csv('fbref_data/outfield_players.csv')   \n",
    "outfield_players = pd.DataFrame(rcsv)\n",
    "\n",
    "rcsv = pd.read_csv('fbref_data/keepers_players.csv')   \n",
    "keeper_players = pd.DataFrame(rcsv)"
   ]
  },
  {
   "cell_type": "code",
   "execution_count": null,
   "id": "667970f6",
   "metadata": {},
   "outputs": [],
   "source": [
    "players = pd.concat(   [ outfield_players[['player', 'team']], keeper_players[['player', 'team']] ], axis = 0, ignore_index = True)\n",
    "\n",
    "keepers_ID = len(outfield_players)\n",
    "\n",
    "players"
   ]
  },
  {
   "cell_type": "code",
   "execution_count": null,
   "id": "e1e64596",
   "metadata": {},
   "outputs": [],
   "source": [
    "import unicodedata\n",
    "\n",
    "def normalize_name(input_str):\n",
    "    nfkd_form = unicodedata.normalize('NFKD', input_str)\n",
    "    only_ascii = nfkd_form.encode('ASCII', 'ignore')\n",
    "    return only_ascii.decode('utf-8')"
   ]
  },
  {
   "cell_type": "code",
   "execution_count": null,
   "id": "3078d6f3",
   "metadata": {},
   "outputs": [],
   "source": [
    "players['surname'] = players['player']\n",
    "players['initial'] = players['player']\n",
    "\n",
    "for i in range(players.shape[0]):\n",
    "    players['surname'][i] = players['surname'][i].split(' ')[-1]\n",
    "    players['surname'][i] = normalize_name(players['surname'][i]).replace('\\'', '')\n",
    "    \n",
    "    \n",
    "    players['initial'][i] = players['player'][i][0]"
   ]
  },
  {
   "cell_type": "code",
   "execution_count": null,
   "id": "ffd6091c",
   "metadata": {},
   "outputs": [],
   "source": [
    "print(players[['player', 'surname']].to_string())"
   ]
  },
  {
   "cell_type": "markdown",
   "id": "9ab06a5c",
   "metadata": {},
   "source": [
    "Replace the surname for some specific players, according to config/name_fix.txt file.\n",
    "\n",
    "This is done for players for which the decoded fbref surname doesn't correspond to Fantacalcio list."
   ]
  },
  {
   "cell_type": "code",
   "execution_count": null,
   "id": "3e759b1b",
   "metadata": {},
   "outputs": [],
   "source": [
    "rcsv = pd.read_csv('config/name_fix.txt')   \n",
    "name_fix = pd.DataFrame(rcsv)\n",
    "\n",
    "for i in range(name_fix.shape[0]):\n",
    "    for j in range(players.shape[0]):\n",
    "        if(players['surname'][j].lower() == name_fix['FROM'][i].lower() and players['team'][j].lower() == name_fix['TEAM'][i].lower()):\n",
    "            players['surname'][j] = name_fix['TO'][i]\n",
    "            print(name_fix['TO'][i])\n",
    "\n",
    "name_fix\n",
    "\n"
   ]
  },
  {
   "cell_type": "markdown",
   "id": "3c686d9f",
   "metadata": {},
   "source": [
    "Load players from Fantacalcio list."
   ]
  },
  {
   "cell_type": "code",
   "execution_count": null,
   "id": "f96eaaa1",
   "metadata": {},
   "outputs": [],
   "source": [
    "fc_data = pd.read_excel('fantacalcio/Quotazioni_Fantacalcio.xlsx', 'Tutti', header = 1)\n",
    "\n",
    "fc_players = fc_data [['Id', 'R', 'Nome', 'Squadra']]\n",
    "\n",
    "fc_players = fc_players.rename(columns = {'Id' : 'id', 'R': 'r', 'Nome' : 'name', 'Squadra' : 'team'})\n",
    "\n",
    "fc_players['surname'] = fc_players['name']\n",
    "fc_players['initial'] = fc_players['name']\n",
    "\n",
    "\n",
    "for i in range(fc_players.shape[0]):\n",
    "    spl = normalize_name( fc_players['name'][i].replace('\\'', '') ).split(' ')\n",
    "    if('.' in spl[-1]):\n",
    "        fc_players.loc[i, 'surname'] = spl[-2]\n",
    "        fc_players.loc[i, 'initial'] = spl[-1][0]\n",
    "    else:\n",
    "        fc_players.loc[i, 'surname'] = spl[-1]\n",
    "        fc_players.loc[i, 'initial'] = ''\n",
    "    \n",
    "fc_players\n",
    "\n"
   ]
  },
  {
   "cell_type": "markdown",
   "id": "d944c720",
   "metadata": {},
   "source": [
    "Associate players from Fantacalcio list to ID for FBref data."
   ]
  },
  {
   "cell_type": "code",
   "execution_count": null,
   "id": "9c50e4b5",
   "metadata": {},
   "outputs": [],
   "source": [
    "fc_players['fb_ID'] = fc_players['id']\n",
    "\n",
    "for i in range(fc_players.shape[0]):\n",
    "    fc_players.loc[i, 'fb_ID']  = -1\n",
    "    \n",
    "    for j in range(players.shape[0]):\n",
    "        if(fc_players['team'][i].lower() in players['team'][j].lower()):\n",
    "            if(fc_players['surname'][i].lower() == players['surname'][j].lower()):              \n",
    "                # if(fc_players['initial'][i] == '' or fc_players['initial'][i].lower() == players['initial'][j].lower()):\n",
    "                if((fc_players['r'][i] == 'P') == (j >= keepers_ID)): # check wether they're a goalkeeper for both FBREF and Fantacalcio\n",
    "                    fc_players.loc[i, 'fb_ID'] = j\n",
    "                \n",
    "        "
   ]
  },
  {
   "cell_type": "markdown",
   "id": "4e60fd2e",
   "metadata": {},
   "source": [
    "Print players for which the association failed.\n",
    "\n",
    "Most of them are players who didn't play a single Serie A game this season with their team. If that is the case, and there is data from their previous team, that is taken here.\n",
    "\n",
    "Others are ones for which the FBRef surname doesn't correspond to Fantacalcio one.\n",
    "\n",
    "\n",
    "For example, Cabral is Arthur for FBref.\n",
    "\n",
    "Correction is made in the name_fix code above."
   ]
  },
  {
   "cell_type": "code",
   "execution_count": null,
   "id": "18f6c5f2",
   "metadata": {},
   "outputs": [],
   "source": [
    "exceptions = ['pellegrini', 'bastoni', 'kristensen'] # exceptions for such players that have the same surname as others (Berardi A., Luca Pellegrini)\n",
    "\n",
    "for i in range(fc_players.shape[0]):\n",
    "    if(fc_players['fb_ID'][i] == -1):\n",
    "        found = False\n",
    "        for j in range(players.shape[0]):\n",
    "            if(fc_players['surname'][i].lower() == players['surname'][j].lower()):\n",
    "                if(not(players['surname'][j].lower() in exceptions)):\n",
    "                    if((fc_players['r'][i] == 'P') == (j >= keepers_ID)):\n",
    "                        fc_players.loc[i, 'fb_ID']= j\n",
    "                        found = True\n",
    "        if(found):\n",
    "            print(fc_players['name'][i] + ' from previous team stats')\n",
    "        else:\n",
    "            print(fc_players['name'][i] + ' not found')"
   ]
  },
  {
   "cell_type": "code",
   "execution_count": null,
   "id": "3b4a36af",
   "metadata": {},
   "outputs": [],
   "source": [
    "fc_players"
   ]
  },
  {
   "cell_type": "markdown",
   "id": "f06afbb6",
   "metadata": {},
   "source": [
    "Populate players dataset with stats from FBref, for outfield players and goalkeepers"
   ]
  },
  {
   "cell_type": "code",
   "execution_count": null,
   "id": "1d73a312",
   "metadata": {},
   "outputs": [],
   "source": [
    "#Data for Outfield players\n",
    "columns_to_copy = outfield_players.columns[4:]\n",
    "\n",
    "fc_players[columns_to_copy] = 0\n",
    "\n",
    "for i in range(fc_players.shape[0]):\n",
    "    if(fc_players['fb_ID'][i] != -1 and fc_players['r'][i] != 'P'):\n",
    "         for j in range(columns_to_copy.shape[0]):\n",
    "            #fc_players[columns_to_copy[j]][i] = outfield_players[columns_to_copy[j]][fc_players['fb_ID'][i]]\n",
    "            fc_players.loc[i, columns_to_copy[j]] = outfield_players.loc[fc_players['fb_ID'][i], columns_to_copy[j]]\n",
    "            "
   ]
  },
  {
   "cell_type": "code",
   "execution_count": null,
   "id": "7acb93e3",
   "metadata": {},
   "outputs": [],
   "source": [
    "keeper_players.columns[4:]"
   ]
  },
  {
   "cell_type": "code",
   "execution_count": null,
   "id": "eb9127a9",
   "metadata": {},
   "outputs": [],
   "source": [
    "#Data for Keepers\n",
    "columns_to_copy = keeper_players.columns[4:]\n",
    "\n",
    "fc_players[columns_to_copy[2:]] = 0 # add columns but do not override age and birth_year\n",
    "\n",
    "delta_k = outfield_players.shape[0]\n",
    "\n",
    "for i in range(fc_players.shape[0]):\n",
    "    if(fc_players['fb_ID'][i] != -1 and fc_players['r'][i] == 'P'):\n",
    "         for j in range(columns_to_copy.shape[0]):\n",
    "            #fc_players[columns_to_copy[j]][i] = keeper_players[columns_to_copy[j]][fc_players['fb_ID'][i] - delta_k]\n",
    "            fc_players.loc[i, columns_to_copy[j]] = keeper_players.loc[fc_players['fb_ID'][i] - delta_k, columns_to_copy[j]]"
   ]
  },
  {
   "cell_type": "code",
   "execution_count": null,
   "id": "da977789",
   "metadata": {},
   "outputs": [],
   "source": [
    "fc_players"
   ]
  },
  {
   "cell_type": "markdown",
   "id": "81a17f84",
   "metadata": {},
   "source": [
    "Load votes database, to add data to players database (mean vote and its standard deviation)"
   ]
  },
  {
   "cell_type": "code",
   "execution_count": null,
   "id": "6a0e43cd",
   "metadata": {},
   "outputs": [],
   "source": [
    "import numpy as np\n",
    "\n",
    "votes = pd.read_excel('mid_outputs/players_votes.xlsx', index_col = 0)"
   ]
  },
  {
   "cell_type": "markdown",
   "id": "6c1b733a",
   "metadata": {},
   "source": [
    "Compute the average Serie A Goal Keeper mean vote and vote std"
   ]
  },
  {
   "cell_type": "code",
   "execution_count": null,
   "id": "61fac91a",
   "metadata": {},
   "outputs": [],
   "source": [
    "min_votes = 3 # TO BE UPDATED WHEN SERIE A HAS MORE CALENDAR WEEKS PLAYED\n",
    "\n",
    "perf_df_P = pd.DataFrame(columns = ['vote_avg', 'vote_std'])\n",
    "\n",
    "for i in range(fc_players.shape[0]): \n",
    "    if(fc_players.loc[i]['r'] == 'P'):\n",
    "        v = np.array([])\n",
    "        for j in range(votes.shape[0]):\n",
    "            if(fc_players['name'][i] == votes['player'][j]):\n",
    "                v = np.append(v, votes['vote'][j])\n",
    "\n",
    "        if(v.shape[0] >= min_votes - 1):\n",
    "            row_df = pd.DataFrame(data = [[np.mean(v), np.std(v)]], columns = perf_df_P.columns)\n",
    "            perf_df_P = pd.concat([perf_df_P, row_df], ignore_index = True)\n",
    "\n",
    "\n",
    "print(perf_df_P.mean())\n",
    "\n",
    "perf_df_P\n"
   ]
  },
  {
   "cell_type": "markdown",
   "id": "dbb344e2",
   "metadata": {},
   "source": [
    "Add to players data their mean vote (and its standard deviation).\n",
    "\n",
    "For players who don't have a minimum amount of games, more data to reach this value is computed, according to the average Serie A player vote (and std). For goalkeepers, this values are different.\n"
   ]
  },
  {
   "cell_type": "code",
   "execution_count": null,
   "id": "c9312080",
   "metadata": {},
   "outputs": [],
   "source": [
    "min_votes = 3 # TO BE UPDATED WHEN SERIE A HAS MORE CALENDAR WEEKS PLAYED\n",
    "\n",
    "#outfield players\n",
    "mean_def = 6\n",
    "std_def = 0.58\n",
    "\n",
    "#goalkeepers\n",
    "mean_def_P = 6.22\n",
    "std_def_P = 0.43\n",
    "\n",
    "\n",
    "perf_df = pd.DataFrame(columns = ['vote_avg', 'vote_std'])\n",
    "\n",
    "for i in range(fc_players.shape[0]):\n",
    "    v = np.array([])\n",
    "    for j in range(votes.shape[0]):\n",
    "        if(fc_players['name'][i] == votes['player'][j]):\n",
    "            v = np.append(v, votes['vote'][j])\n",
    "    \n",
    "    mean_def_i = mean_def\n",
    "    std_def_i = std_def\n",
    "    \n",
    "    if(fc_players['r'][i] == 'P'):\n",
    "        mean_def_i = mean_def_P\n",
    "        std_def_i = std_def_P\n",
    "        \n",
    "    if(v.shape[0] < min_votes):\n",
    "         for k in range(min_votes - v.shape[0]):\n",
    "            v = np.append( v, np.random.normal(mean_def_i, std_def_i) )\n",
    "    \n",
    "    row_df = pd.DataFrame(data = [[np.mean(v), np.std(v)]], columns = perf_df.columns)\n",
    "    perf_df = pd.concat([perf_df, row_df], ignore_index = True)\n",
    "    \n",
    "perf_df\n",
    "    "
   ]
  },
  {
   "cell_type": "code",
   "execution_count": null,
   "id": "b2570ce5",
   "metadata": {},
   "outputs": [],
   "source": [
    "fc_players = pd.concat([fc_players, perf_df], axis = 1)\n",
    "\n",
    "fc_players"
   ]
  },
  {
   "cell_type": "code",
   "execution_count": null,
   "id": "f7620abe",
   "metadata": {},
   "outputs": [],
   "source": [
    "GK_GAMES_COLUMN = 118\n",
    "\n",
    "fc_players.columns[GK_GAMES_COLUMN]\n",
    "\n",
    "# check it if is 'gk_games'"
   ]
  },
  {
   "cell_type": "markdown",
   "id": "c550c370",
   "metadata": {},
   "source": [
    "For goalkeepers who didn't play a miminum amount of games, data is weightly averaged with one of the main goalkeeper of their same team."
   ]
  },
  {
   "cell_type": "code",
   "execution_count": null,
   "id": "700b7a7d",
   "metadata": {},
   "outputs": [],
   "source": [
    "min_gk_games = 3 # TO BE UPDATED WHEN SERIE A HAS MORE CALENDAR WEEKS PLAYED\n",
    "\n",
    "fc_players_newgk = fc_players.copy()\n",
    "\n",
    "columns_to_avg = fc_players.columns[GK_GAMES_COLUMN:] # from gk_games to end\n",
    "\n",
    "for i in range(fc_players.shape[0]):\n",
    "    if(fc_players['r'][i] == 'P'):\n",
    "        if(fc_players['gk_games'][i] < min_gk_games):\n",
    "            for j in range(fc_players.shape[0]):\n",
    "                if(fc_players['team'][i] == fc_players['team'][j] and fc_players['gk_games'][j] >= min_gk_games):\n",
    "                    break\n",
    "                    \n",
    "            weight = 1 - (min_gk_games - fc_players['gk_games'][i]) / min_gk_games\n",
    "            \n",
    "            fc_players_newgk.at[i, columns_to_avg] = fc_players.loc[i][columns_to_avg] * weight + (1 - weight) * fc_players.loc[j][columns_to_avg]\n",
    "            \n",
    "            print(fc_players['name'][i] + ', ' + str(weight))\n",
    "            \n",
    "        "
   ]
  },
  {
   "cell_type": "code",
   "execution_count": null,
   "id": "2d9eee99",
   "metadata": {},
   "outputs": [],
   "source": [
    "fc_players = fc_players_newgk\n",
    "\n",
    "fc_players"
   ]
  },
  {
   "cell_type": "markdown",
   "id": "2b13240e",
   "metadata": {},
   "source": [
    "Save to file."
   ]
  },
  {
   "cell_type": "code",
   "execution_count": null,
   "id": "8336c025",
   "metadata": {},
   "outputs": [],
   "source": [
    "fc_players.to_excel('mid_outputs/players_stats.xlsx')"
   ]
  }
 ],
 "metadata": {
  "kernelspec": {
   "display_name": "Python 3 (ipykernel)",
   "language": "python",
   "name": "python3"
  },
  "language_info": {
   "codemirror_mode": {
    "name": "ipython",
    "version": 3
   },
   "file_extension": ".py",
   "mimetype": "text/x-python",
   "name": "python",
   "nbconvert_exporter": "python",
   "pygments_lexer": "ipython3",
   "version": "3.11.5"
  }
 },
 "nbformat": 4,
 "nbformat_minor": 5
}
